{
  "nbformat": 4,
  "nbformat_minor": 0,
  "metadata": {
    "colab": {
      "name": "while-loop.ipynb",
      "provenance": [],
      "private_outputs": true,
      "authorship_tag": "ABX9TyOFNfrX7jPIjpAjmlIGU8pD",
      "include_colab_link": true
    },
    "kernelspec": {
      "name": "python3",
      "display_name": "Python 3"
    }
  },
  "cells": [
    {
      "cell_type": "markdown",
      "metadata": {
        "id": "view-in-github",
        "colab_type": "text"
      },
      "source": [
        "<a href=\"https://colab.research.google.com/github/dunkert/python_tutorial/blob/master/while_loop.ipynb\" target=\"_parent\"><img src=\"https://colab.research.google.com/assets/colab-badge.svg\" alt=\"Open In Colab\"/></a>"
      ]
    },
    {
      "cell_type": "code",
      "metadata": {
        "id": "UkaJc6-CJNZW",
        "colab_type": "code",
        "colab": {}
      },
      "source": [
        "\n",
        "# Let's create a few simple examples using 'while' loops.\n",
        "\n",
        "# while loop\n",
        "i = 1\n",
        "while i < 6:\n",
        "\tprint(i)\n",
        "\ti+=1\n",
        "\n",
        "print(\"\")\n",
        "\n",
        "i = 1\n",
        "while i < 6:\n",
        "\tprint(i)\n",
        "\tif i == 3:\n",
        "\t\tbreak\n",
        "\ti += 1\n",
        "\n",
        "print(\"\")\n",
        "\n",
        "a,b = 0,1\n",
        "\n",
        "filename = \"fibo.txt\"\n",
        "fh = open(filename,\"w\")\n",
        "\n",
        "while b < 40:\n",
        "\tprint(\"Writting the value \",b,\" in\", filename)\n",
        "\tfh.writelines(str(b)+\"\\n\")\n",
        "\ta,b = b, b + a\n",
        "\n",
        "fh.close()\n",
        "\n",
        "print(\"\")\n",
        "\n",
        "fh = open(filename, \"r\")\n",
        "\n",
        "print(\"Reading the file:\", filename)\n",
        "# 'for' loops using an iterator\n",
        "for line in fh.readlines():\n",
        "\tprint(line,end='')"
      ],
      "execution_count": 0,
      "outputs": []
    }
  ]
}