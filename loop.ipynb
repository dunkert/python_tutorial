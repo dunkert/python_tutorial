{
  "nbformat": 4,
  "nbformat_minor": 0,
  "metadata": {
    "colab": {
      "name": "loop.ipynb",
      "provenance": [],
      "private_outputs": true,
      "authorship_tag": "ABX9TyPDvdV0K8jPRPJgSnnLRD9o",
      "include_colab_link": true
    },
    "kernelspec": {
      "name": "python3",
      "display_name": "Python 3"
    }
  },
  "cells": [
    {
      "cell_type": "markdown",
      "metadata": {
        "id": "view-in-github",
        "colab_type": "text"
      },
      "source": [
        "<a href=\"https://colab.research.google.com/github/dunkert/python_tutorial/blob/master/loop.ipynb\" target=\"_parent\"><img src=\"https://colab.research.google.com/assets/colab-badge.svg\" alt=\"Open In Colab\"/></a>"
      ]
    },
    {
      "cell_type": "code",
      "metadata": {
        "id": "8JInxt2FGGOT",
        "colab_type": "code",
        "colab": {}
      },
      "source": [
        "# For loops examples\n",
        "\n",
        "for n in (1,2,3,4,5,6):\n",
        "  print(n)\n",
        "\n",
        "print(\"\")\n",
        "\n",
        "for n in range(1,6):\n",
        "    print(n)\n",
        "\n",
        "print(\"\")\n",
        "\n",
        "for n in [\"apple\", \"banana\", \"orange\"]:\n",
        "    print(n)\n",
        "\n",
        "print(\"\")\n",
        "\n",
        "fruits = [\"apple\", \"banana\", \"orange\"]\n",
        "\n",
        "for n in fruits:\n",
        "    print(n)\n",
        "else:\n",
        "    print(\"Ther is no more fruits\")\n",
        "\n",
        "print(\"\")\n",
        "\n",
        "for x in range(1,6):\n",
        "    for y in range(1,6):\n",
        "         print(\"* \",end='')\n",
        "    print(\"\")\n",
        "\n",
        "print(\"\")\n",
        "\n"
      ],
      "execution_count": 0,
      "outputs": []
    }
  ]
}